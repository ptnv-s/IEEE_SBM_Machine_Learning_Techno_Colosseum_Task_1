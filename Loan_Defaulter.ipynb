{
  "nbformat": 4,
  "nbformat_minor": 0,
  "metadata": {
    "colab": {
      "name": "Loan_Defaulter.ipynb",
      "provenance": [],
      "collapsed_sections": [],
      "mount_file_id": "1Oy_YjdYGTvqqbJ_ytpfhFqEhH1KeigHm",
      "authorship_tag": "ABX9TyPzS2rOI+gqjF2pzvR73TLO",
      "include_colab_link": true
    },
    "kernelspec": {
      "display_name": "Python 3",
      "name": "python3"
    },
    "language_info": {
      "name": "python"
    }
  },
  "cells": [
    {
      "cell_type": "markdown",
      "metadata": {
        "id": "view-in-github",
        "colab_type": "text"
      },
      "source": [
        "<a href=\"https://colab.research.google.com/github/ptnv-s/IEEE_SBM_Machine_Learning_Techno_Colosseum_Task_1/blob/main/Loan_Defaulter.ipynb\" target=\"_parent\"><img src=\"https://colab.research.google.com/assets/colab-badge.svg\" alt=\"Open In Colab\"/></a>"
      ]
    },
    {
      "cell_type": "code",
      "metadata": {
        "id": "vPXGEBvyI1Z-"
      },
      "source": [
        "import numpy as np\n",
        "import pandas as pd"
      ],
      "execution_count": 90,
      "outputs": []
    },
    {
      "cell_type": "code",
      "metadata": {
        "id": "UWQMgvDqJ4qz"
      },
      "source": [
        "import matplotlib.pyplot as plt\n",
        "import seaborn as sns"
      ],
      "execution_count": 91,
      "outputs": []
    },
    {
      "cell_type": "code",
      "metadata": {
        "id": "L96bRNmzI_uw"
      },
      "source": [
        "df_train = pd.read_csv(\"/content/drive/MyDrive/data/Default_Fin.csv\")"
      ],
      "execution_count": 92,
      "outputs": []
    },
    {
      "cell_type": "code",
      "metadata": {
        "colab": {
          "base_uri": "https://localhost:8080/",
          "height": 423
        },
        "id": "5YqKvtgiJcGJ",
        "outputId": "0102b55d-26c7-45f1-be42-3be75a16fa78"
      },
      "source": [
        "df_train"
      ],
      "execution_count": 93,
      "outputs": [
        {
          "output_type": "execute_result",
          "data": {
            "text/html": [
              "<div>\n",
              "<style scoped>\n",
              "    .dataframe tbody tr th:only-of-type {\n",
              "        vertical-align: middle;\n",
              "    }\n",
              "\n",
              "    .dataframe tbody tr th {\n",
              "        vertical-align: top;\n",
              "    }\n",
              "\n",
              "    .dataframe thead th {\n",
              "        text-align: right;\n",
              "    }\n",
              "</style>\n",
              "<table border=\"1\" class=\"dataframe\">\n",
              "  <thead>\n",
              "    <tr style=\"text-align: right;\">\n",
              "      <th></th>\n",
              "      <th>Index</th>\n",
              "      <th>Employed</th>\n",
              "      <th>Bank Balance</th>\n",
              "      <th>Annual Salary</th>\n",
              "      <th>Defaulted?</th>\n",
              "    </tr>\n",
              "  </thead>\n",
              "  <tbody>\n",
              "    <tr>\n",
              "      <th>0</th>\n",
              "      <td>1</td>\n",
              "      <td>1</td>\n",
              "      <td>8754.36</td>\n",
              "      <td>532339.56</td>\n",
              "      <td>0</td>\n",
              "    </tr>\n",
              "    <tr>\n",
              "      <th>1</th>\n",
              "      <td>2</td>\n",
              "      <td>0</td>\n",
              "      <td>9806.16</td>\n",
              "      <td>145273.56</td>\n",
              "      <td>0</td>\n",
              "    </tr>\n",
              "    <tr>\n",
              "      <th>2</th>\n",
              "      <td>3</td>\n",
              "      <td>1</td>\n",
              "      <td>12882.60</td>\n",
              "      <td>381205.68</td>\n",
              "      <td>0</td>\n",
              "    </tr>\n",
              "    <tr>\n",
              "      <th>3</th>\n",
              "      <td>4</td>\n",
              "      <td>1</td>\n",
              "      <td>6351.00</td>\n",
              "      <td>428453.88</td>\n",
              "      <td>0</td>\n",
              "    </tr>\n",
              "    <tr>\n",
              "      <th>4</th>\n",
              "      <td>5</td>\n",
              "      <td>1</td>\n",
              "      <td>9427.92</td>\n",
              "      <td>461562.00</td>\n",
              "      <td>0</td>\n",
              "    </tr>\n",
              "    <tr>\n",
              "      <th>...</th>\n",
              "      <td>...</td>\n",
              "      <td>...</td>\n",
              "      <td>...</td>\n",
              "      <td>...</td>\n",
              "      <td>...</td>\n",
              "    </tr>\n",
              "    <tr>\n",
              "      <th>9995</th>\n",
              "      <td>9996</td>\n",
              "      <td>1</td>\n",
              "      <td>8538.72</td>\n",
              "      <td>635908.56</td>\n",
              "      <td>0</td>\n",
              "    </tr>\n",
              "    <tr>\n",
              "      <th>9996</th>\n",
              "      <td>9997</td>\n",
              "      <td>1</td>\n",
              "      <td>9095.52</td>\n",
              "      <td>235928.64</td>\n",
              "      <td>0</td>\n",
              "    </tr>\n",
              "    <tr>\n",
              "      <th>9997</th>\n",
              "      <td>9998</td>\n",
              "      <td>1</td>\n",
              "      <td>10144.92</td>\n",
              "      <td>703633.92</td>\n",
              "      <td>0</td>\n",
              "    </tr>\n",
              "    <tr>\n",
              "      <th>9998</th>\n",
              "      <td>9999</td>\n",
              "      <td>1</td>\n",
              "      <td>18828.12</td>\n",
              "      <td>440029.32</td>\n",
              "      <td>0</td>\n",
              "    </tr>\n",
              "    <tr>\n",
              "      <th>9999</th>\n",
              "      <td>10000</td>\n",
              "      <td>0</td>\n",
              "      <td>2411.04</td>\n",
              "      <td>202355.40</td>\n",
              "      <td>0</td>\n",
              "    </tr>\n",
              "  </tbody>\n",
              "</table>\n",
              "<p>10000 rows × 5 columns</p>\n",
              "</div>"
            ],
            "text/plain": [
              "      Index  Employed  Bank Balance  Annual Salary  Defaulted?\n",
              "0         1         1       8754.36      532339.56           0\n",
              "1         2         0       9806.16      145273.56           0\n",
              "2         3         1      12882.60      381205.68           0\n",
              "3         4         1       6351.00      428453.88           0\n",
              "4         5         1       9427.92      461562.00           0\n",
              "...     ...       ...           ...            ...         ...\n",
              "9995   9996         1       8538.72      635908.56           0\n",
              "9996   9997         1       9095.52      235928.64           0\n",
              "9997   9998         1      10144.92      703633.92           0\n",
              "9998   9999         1      18828.12      440029.32           0\n",
              "9999  10000         0       2411.04      202355.40           0\n",
              "\n",
              "[10000 rows x 5 columns]"
            ]
          },
          "metadata": {
            "tags": []
          },
          "execution_count": 93
        }
      ]
    },
    {
      "cell_type": "code",
      "metadata": {
        "colab": {
          "base_uri": "https://localhost:8080/",
          "height": 612
        },
        "id": "Undj87r4Jdmi",
        "outputId": "6050370d-464f-4450-eceb-226d3675323b"
      },
      "source": [
        "plt.figure(figsize = (10,10))       \n",
        "sns.heatmap(df_train.corr(),annot = True)"
      ],
      "execution_count": 94,
      "outputs": [
        {
          "output_type": "execute_result",
          "data": {
            "text/plain": [
              "<matplotlib.axes._subplots.AxesSubplot at 0x7fc694ca3110>"
            ]
          },
          "metadata": {
            "tags": []
          },
          "execution_count": 94
        },
        {
          "output_type": "display_data",
          "data": {
            "image/png": "[encoded data removed]",
            "text/plain": [
              "<Figure size 720x720 with 2 Axes>"
            ]
          },
          "metadata": {
            "tags": [],
            "needs_background": "light"
          }
        }
      ]
    },
    {
      "cell_type": "code",
      "metadata": {
        "id": "VbNUZSXAJzIQ"
      },
      "source": [
        ""
      ],
      "execution_count": 76,
      "outputs": []
    },
    {
      "cell_type": "code",
      "metadata": {
        "colab": {
          "base_uri": "https://localhost:8080/",
          "height": 175
        },
        "id": "xPdFexZyMMiE",
        "outputId": "94adf89d-48e5-4deb-c1ff-0edd5c405305"
      },
      "source": [
        "df_train.describe().T"
      ],
      "execution_count": 60,
      "outputs": [
        {
          "output_type": "execute_result",
          "data": {
            "text/html": [
              "<div>\n",
              "<style scoped>\n",
              "    .dataframe tbody tr th:only-of-type {\n",
              "        vertical-align: middle;\n",
              "    }\n",
              "\n",
              "    .dataframe tbody tr th {\n",
              "        vertical-align: top;\n",
              "    }\n",
              "\n",
              "    .dataframe thead th {\n",
              "        text-align: right;\n",
              "    }\n",
              "</style>\n",
              "<table border=\"1\" class=\"dataframe\">\n",
              "  <thead>\n",
              "    <tr style=\"text-align: right;\">\n",
              "      <th></th>\n",
              "      <th>count</th>\n",
              "      <th>mean</th>\n",
              "      <th>std</th>\n",
              "      <th>min</th>\n",
              "      <th>25%</th>\n",
              "      <th>50%</th>\n",
              "      <th>75%</th>\n",
              "      <th>max</th>\n",
              "    </tr>\n",
              "  </thead>\n",
              "  <tbody>\n",
              "    <tr>\n",
              "      <th>Employed</th>\n",
              "      <td>10000.0</td>\n",
              "      <td>0.705600</td>\n",
              "      <td>0.455795</td>\n",
              "      <td>0.00</td>\n",
              "      <td>0.00</td>\n",
              "      <td>1.00</td>\n",
              "      <td>1.00</td>\n",
              "      <td>1.00</td>\n",
              "    </tr>\n",
              "    <tr>\n",
              "      <th>Bank Balance</th>\n",
              "      <td>10000.0</td>\n",
              "      <td>10024.498524</td>\n",
              "      <td>5804.579486</td>\n",
              "      <td>0.00</td>\n",
              "      <td>5780.79</td>\n",
              "      <td>9883.62</td>\n",
              "      <td>13995.66</td>\n",
              "      <td>31851.84</td>\n",
              "    </tr>\n",
              "    <tr>\n",
              "      <th>Annual Salary</th>\n",
              "      <td>10000.0</td>\n",
              "      <td>402203.782224</td>\n",
              "      <td>160039.674988</td>\n",
              "      <td>9263.64</td>\n",
              "      <td>256085.52</td>\n",
              "      <td>414631.74</td>\n",
              "      <td>525692.76</td>\n",
              "      <td>882650.76</td>\n",
              "    </tr>\n",
              "    <tr>\n",
              "      <th>Defaulted?</th>\n",
              "      <td>10000.0</td>\n",
              "      <td>0.033300</td>\n",
              "      <td>0.179428</td>\n",
              "      <td>0.00</td>\n",
              "      <td>0.00</td>\n",
              "      <td>0.00</td>\n",
              "      <td>0.00</td>\n",
              "      <td>1.00</td>\n",
              "    </tr>\n",
              "  </tbody>\n",
              "</table>\n",
              "</div>"
            ],
            "text/plain": [
              "                 count           mean  ...        75%        max\n",
              "Employed       10000.0       0.705600  ...       1.00       1.00\n",
              "Bank Balance   10000.0   10024.498524  ...   13995.66   31851.84\n",
              "Annual Salary  10000.0  402203.782224  ...  525692.76  882650.76\n",
              "Defaulted?     10000.0       0.033300  ...       0.00       1.00\n",
              "\n",
              "[4 rows x 8 columns]"
            ]
          },
          "metadata": {
            "tags": []
          },
          "execution_count": 60
        }
      ]
    },
    {
      "cell_type": "code",
      "metadata": {
        "colab": {
          "base_uri": "https://localhost:8080/",
          "height": 296
        },
        "id": "soW1M-vWLQTi",
        "outputId": "f34eb9eb-cf25-455e-800d-7d7b1222d065"
      },
      "source": [
        "sns.scatterplot(data=df_train, x=\"Defaulted?\", y=\"Annual Salary\")"
      ],
      "execution_count": 8,
      "outputs": [
        {
          "output_type": "execute_result",
          "data": {
            "text/plain": [
              "<matplotlib.axes._subplots.AxesSubplot at 0x7fc6a12c76d0>"
            ]
          },
          "metadata": {
            "tags": []
          },
          "execution_count": 8
        },
        {
          "output_type": "display_data",
          "data": {
            "image/png": "[encoded data removed]",
            "text/plain": [
              "<Figure size 432x288 with 1 Axes>"
            ]
          },
          "metadata": {
            "tags": [],
            "needs_background": "light"
          }
        }
      ]
    },
    {
      "cell_type": "code",
      "metadata": {
        "colab": {
          "base_uri": "https://localhost:8080/",
          "height": 279
        },
        "id": "PPh9h_ldKP2E",
        "outputId": "dc310610-bcb4-45f8-e775-498d3f9d9165"
      },
      "source": [
        "sns.boxplot(x = df_train[\"Defaulted?\"], y = df_train[\"Annual Salary\"]);"
      ],
      "execution_count": 9,
      "outputs": [
        {
          "output_type": "display_data",
          "data": {
            "image/png": "[encoded data removed]",
            "text/plain": [
              "<Figure size 432x288 with 1 Axes>"
            ]
          },
          "metadata": {
            "tags": [],
            "needs_background": "light"
          }
        }
      ]
    },
    {
      "cell_type": "markdown",
      "metadata": {
        "id": "80ikoaey0EdU"
      },
      "source": [
        "Thus we can conclude presence of outliers in Bank Balance\n"
      ]
    },
    {
      "cell_type": "code",
      "metadata": {
        "colab": {
          "base_uri": "https://localhost:8080/",
          "height": 279
        },
        "id": "iVoBt3zeK9IN",
        "outputId": "e6a28744-3086-4ab9-b1e3-ffe49bbf15e8"
      },
      "source": [
        "sns.boxplot(x = df_train[\"Defaulted?\"],y = df_train[\"Bank Balance\"]);"
      ],
      "execution_count": 10,
      "outputs": [
        {
          "output_type": "display_data",
          "data": {
            "image/png": "[encoded data removed]",
            "text/plain": [
              "<Figure size 432x288 with 1 Axes>"
            ]
          },
          "metadata": {
            "tags": [],
            "needs_background": "light"
          }
        }
      ]
    },
    {
      "cell_type": "code",
      "metadata": {
        "colab": {
          "base_uri": "https://localhost:8080/",
          "height": 279
        },
        "id": "wrXo-wRZLB5-",
        "outputId": "7a966f04-4287-49e1-b034-821f60b521d0"
      },
      "source": [
        "sns.violinplot(x = df_train[\"Defaulted?\"],y = df_train[\"Bank Balance\"]);"
      ],
      "execution_count": 11,
      "outputs": [
        {
          "output_type": "display_data",
          "data": {
            "image/png": "[encoded data removed]",
            "text/plain": [
              "<Figure size 432x288 with 1 Axes>"
            ]
          },
          "metadata": {
            "tags": [],
            "needs_background": "light"
          }
        }
      ]
    },
    {
      "cell_type": "code",
      "metadata": {
        "colab": {
          "base_uri": "https://localhost:8080/",
          "height": 279
        },
        "id": "lXFUO7g9LCdS",
        "outputId": "f9a1d63c-1330-4851-c61b-9382614487c4"
      },
      "source": [
        "sns.violinplot(x = df_train[\"Defaulted?\"],y = df_train[\"Annual Salary\"]);"
      ],
      "execution_count": 12,
      "outputs": [
        {
          "output_type": "display_data",
          "data": {
            "image/png": "[encoded data removed]",
            "text/plain": [
              "<Figure size 432x288 with 1 Axes>"
            ]
          },
          "metadata": {
            "tags": [],
            "needs_background": "light"
          }
        }
      ]
    },
    {
      "cell_type": "code",
      "metadata": {
        "colab": {
          "base_uri": "https://localhost:8080/",
          "height": 351
        },
        "id": "eQb_N2JyLCTW",
        "outputId": "053a661b-a306-474a-b219-126942deb76c"
      },
      "source": [
        "sns.swarmplot(data=df_train, x=\"Defaulted?\", y=\"Annual Salary\")"
      ],
      "execution_count": 13,
      "outputs": [
        {
          "output_type": "stream",
          "text": [
            "/usr/local/lib/python3.7/dist-packages/seaborn/categorical.py:1296: UserWarning: 90.3% of the points cannot be placed; you may want to decrease the size of the markers or use stripplot.\n",
            "  warnings.warn(msg, UserWarning)\n"
          ],
          "name": "stderr"
        },
        {
          "output_type": "execute_result",
          "data": {
            "text/plain": [
              "<matplotlib.axes._subplots.AxesSubplot at 0x7fc69fa32d90>"
            ]
          },
          "metadata": {
            "tags": []
          },
          "execution_count": 13
        },
        {
          "output_type": "display_data",
          "data": {
            "image/png": "[encoded data removed]",
            "text/plain": [
              "<Figure size 432x288 with 1 Axes>"
            ]
          },
          "metadata": {
            "tags": [],
            "needs_background": "light"
          }
        }
      ]
    },
    {
      "cell_type": "code",
      "metadata": {
        "colab": {
          "base_uri": "https://localhost:8080/",
          "height": 351
        },
        "id": "Tdhuspe2Ne0p",
        "outputId": "8f9373da-09df-4e8e-8282-769a392cd207"
      },
      "source": [
        "sns.swarmplot(data=df_train, x=\"Defaulted?\", y=\"Bank Balance\")"
      ],
      "execution_count": 14,
      "outputs": [
        {
          "output_type": "stream",
          "text": [
            "/usr/local/lib/python3.7/dist-packages/seaborn/categorical.py:1296: UserWarning: 90.9% of the points cannot be placed; you may want to decrease the size of the markers or use stripplot.\n",
            "  warnings.warn(msg, UserWarning)\n"
          ],
          "name": "stderr"
        },
        {
          "output_type": "execute_result",
          "data": {
            "text/plain": [
              "<matplotlib.axes._subplots.AxesSubplot at 0x7fc69fb6f0d0>"
            ]
          },
          "metadata": {
            "tags": []
          },
          "execution_count": 14
        },
        {
          "output_type": "display_data",
          "data": {
            "image/png": "[encoded data removed]",
            "text/plain": [
              "<Figure size 432x288 with 1 Axes>"
            ]
          },
          "metadata": {
            "tags": [],
            "needs_background": "light"
          }
        }
      ]
    },
    {
      "cell_type": "code",
      "metadata": {
        "colab": {
          "base_uri": "https://localhost:8080/",
          "height": 362
        },
        "id": "i5RPDiFpOLmN",
        "outputId": "9fbbb3bb-8b3c-44dd-c0d0-9d649438f398"
      },
      "source": [
        "sns.distplot(df_train[\"Bank Balance\"])"
      ],
      "execution_count": 15,
      "outputs": [
        {
          "output_type": "stream",
          "text": [
            "/usr/local/lib/python3.7/dist-packages/seaborn/distributions.py:2557: FutureWarning: `distplot` is a deprecated function and will be removed in a future version. Please adapt your code to use either `displot` (a figure-level function with similar flexibility) or `histplot` (an axes-level function for histograms).\n",
            "  warnings.warn(msg, FutureWarning)\n"
          ],
          "name": "stderr"
        },
        {
          "output_type": "execute_result",
          "data": {
            "text/plain": [
              "<matplotlib.axes._subplots.AxesSubplot at 0x7fc69d9be150>"
            ]
          },
          "metadata": {
            "tags": []
          },
          "execution_count": 15
        },
        {
          "output_type": "display_data",
          "data": {
            "image/png": "[encoded data removed]",
            "text/plain": [
              "<Figure size 432x288 with 1 Axes>"
            ]
          },
          "metadata": {
            "tags": [],
            "needs_background": "light"
          }
        }
      ]
    },
    {
      "cell_type": "code",
      "metadata": {
        "colab": {
          "base_uri": "https://localhost:8080/",
          "height": 362
        },
        "id": "ooWhS_5-PC14",
        "outputId": "49f382c7-76b1-42fb-8a02-9cff5a22dfe3"
      },
      "source": [
        "sns.distplot(df_train[\"Annual Salary\"])"
      ],
      "execution_count": 16,
      "outputs": [
        {
          "output_type": "stream",
          "text": [
            "/usr/local/lib/python3.7/dist-packages/seaborn/distributions.py:2557: FutureWarning: `distplot` is a deprecated function and will be removed in a future version. Please adapt your code to use either `displot` (a figure-level function with similar flexibility) or `histplot` (an axes-level function for histograms).\n",
            "  warnings.warn(msg, FutureWarning)\n"
          ],
          "name": "stderr"
        },
        {
          "output_type": "execute_result",
          "data": {
            "text/plain": [
              "<matplotlib.axes._subplots.AxesSubplot at 0x7fc69d99c9d0>"
            ]
          },
          "metadata": {
            "tags": []
          },
          "execution_count": 16
        },
        {
          "output_type": "display_data",
          "data": {
            "image/png": "[encoded data removed]",
            "text/plain": [
              "<Figure size 432x288 with 1 Axes>"
            ]
          },
          "metadata": {
            "tags": [],
            "needs_background": "light"
          }
        }
      ]
    },
    {
      "cell_type": "code",
      "metadata": {
        "id": "YEIHQEeyQh4z"
      },
      "source": [
        "from sklearn.preprocessing import MinMaxScaler"
      ],
      "execution_count": 95,
      "outputs": []
    },
    {
      "cell_type": "code",
      "metadata": {
        "id": "ewcQaRgRPJL8"
      },
      "source": [
        "df_train[['Bank Balance','Annual Salary']]=MinMaxScaler().fit_transform(df_train[['Bank Balance','Annual Salary']])"
      ],
      "execution_count": 96,
      "outputs": []
    },
    {
      "cell_type": "code",
      "metadata": {
        "colab": {
          "base_uri": "https://localhost:8080/",
          "height": 423
        },
        "id": "pP68L8gXRDEM",
        "outputId": "8be60039-9a88-4104-d704-79089464904a"
      },
      "source": [
        "df_train"
      ],
      "execution_count": 97,
      "outputs": [
        {
          "output_type": "execute_result",
          "data": {
            "text/html": [
              "<div>\n",
              "<style scoped>\n",
              "    .dataframe tbody tr th:only-of-type {\n",
              "        vertical-align: middle;\n",
              "    }\n",
              "\n",
              "    .dataframe tbody tr th {\n",
              "        vertical-align: top;\n",
              "    }\n",
              "\n",
              "    .dataframe thead th {\n",
              "        text-align: right;\n",
              "    }\n",
              "</style>\n",
              "<table border=\"1\" class=\"dataframe\">\n",
              "  <thead>\n",
              "    <tr style=\"text-align: right;\">\n",
              "      <th></th>\n",
              "      <th>Index</th>\n",
              "      <th>Employed</th>\n",
              "      <th>Bank Balance</th>\n",
              "      <th>Annual Salary</th>\n",
              "      <th>Defaulted?</th>\n",
              "    </tr>\n",
              "  </thead>\n",
              "  <tbody>\n",
              "    <tr>\n",
              "      <th>0</th>\n",
              "      <td>1</td>\n",
              "      <td>1</td>\n",
              "      <td>0.274846</td>\n",
              "      <td>0.598905</td>\n",
              "      <td>0</td>\n",
              "    </tr>\n",
              "    <tr>\n",
              "      <th>1</th>\n",
              "      <td>2</td>\n",
              "      <td>0</td>\n",
              "      <td>0.307868</td>\n",
              "      <td>0.155727</td>\n",
              "      <td>0</td>\n",
              "    </tr>\n",
              "    <tr>\n",
              "      <th>2</th>\n",
              "      <td>3</td>\n",
              "      <td>1</td>\n",
              "      <td>0.404454</td>\n",
              "      <td>0.425862</td>\n",
              "      <td>0</td>\n",
              "    </tr>\n",
              "    <tr>\n",
              "      <th>3</th>\n",
              "      <td>4</td>\n",
              "      <td>1</td>\n",
              "      <td>0.199392</td>\n",
              "      <td>0.479959</td>\n",
              "      <td>0</td>\n",
              "    </tr>\n",
              "    <tr>\n",
              "      <th>4</th>\n",
              "      <td>5</td>\n",
              "      <td>1</td>\n",
              "      <td>0.295993</td>\n",
              "      <td>0.517867</td>\n",
              "      <td>0</td>\n",
              "    </tr>\n",
              "    <tr>\n",
              "      <th>...</th>\n",
              "      <td>...</td>\n",
              "      <td>...</td>\n",
              "      <td>...</td>\n",
              "      <td>...</td>\n",
              "      <td>...</td>\n",
              "    </tr>\n",
              "    <tr>\n",
              "      <th>9995</th>\n",
              "      <td>9996</td>\n",
              "      <td>1</td>\n",
              "      <td>0.268076</td>\n",
              "      <td>0.717488</td>\n",
              "      <td>0</td>\n",
              "    </tr>\n",
              "    <tr>\n",
              "      <th>9996</th>\n",
              "      <td>9997</td>\n",
              "      <td>1</td>\n",
              "      <td>0.285557</td>\n",
              "      <td>0.259524</td>\n",
              "      <td>0</td>\n",
              "    </tr>\n",
              "    <tr>\n",
              "      <th>9997</th>\n",
              "      <td>9998</td>\n",
              "      <td>1</td>\n",
              "      <td>0.318503</td>\n",
              "      <td>0.795032</td>\n",
              "      <td>0</td>\n",
              "    </tr>\n",
              "    <tr>\n",
              "      <th>9998</th>\n",
              "      <td>9999</td>\n",
              "      <td>1</td>\n",
              "      <td>0.591116</td>\n",
              "      <td>0.493213</td>\n",
              "      <td>0</td>\n",
              "    </tr>\n",
              "    <tr>\n",
              "      <th>9999</th>\n",
              "      <td>10000</td>\n",
              "      <td>0</td>\n",
              "      <td>0.075695</td>\n",
              "      <td>0.221084</td>\n",
              "      <td>0</td>\n",
              "    </tr>\n",
              "  </tbody>\n",
              "</table>\n",
              "<p>10000 rows × 5 columns</p>\n",
              "</div>"
            ],
            "text/plain": [
              "      Index  Employed  Bank Balance  Annual Salary  Defaulted?\n",
              "0         1         1      0.274846       0.598905           0\n",
              "1         2         0      0.307868       0.155727           0\n",
              "2         3         1      0.404454       0.425862           0\n",
              "3         4         1      0.199392       0.479959           0\n",
              "4         5         1      0.295993       0.517867           0\n",
              "...     ...       ...           ...            ...         ...\n",
              "9995   9996         1      0.268076       0.717488           0\n",
              "9996   9997         1      0.285557       0.259524           0\n",
              "9997   9998         1      0.318503       0.795032           0\n",
              "9998   9999         1      0.591116       0.493213           0\n",
              "9999  10000         0      0.075695       0.221084           0\n",
              "\n",
              "[10000 rows x 5 columns]"
            ]
          },
          "metadata": {
            "tags": []
          },
          "execution_count": 97
        }
      ]
    },
    {
      "cell_type": "code",
      "metadata": {
        "id": "2PRoRudxdvXA"
      },
      "source": [
        "y_train_def = df_train[\"Defaulted?\"]"
      ],
      "execution_count": 98,
      "outputs": []
    },
    {
      "cell_type": "code",
      "metadata": {
        "id": "rEZgtdKbrcvv"
      },
      "source": [
        "df_train1 = df_train"
      ],
      "execution_count": 99,
      "outputs": []
    },
    {
      "cell_type": "code",
      "metadata": {
        "id": "Vo7UM5g_eCse"
      },
      "source": [
        "df_train.drop(['Defaulted?'],inplace=True,axis=1)"
      ],
      "execution_count": 100,
      "outputs": []
    },
    {
      "cell_type": "code",
      "metadata": {
        "id": "mDPiKJe7teck"
      },
      "source": [
        "df_train.drop(['Index'],inplace=True,axis=1)"
      ],
      "execution_count": 101,
      "outputs": []
    },
    {
      "cell_type": "code",
      "metadata": {
        "id": "1OsTjf2FdqkO"
      },
      "source": [
        "from sklearn.model_selection import train_test_split"
      ],
      "execution_count": 102,
      "outputs": []
    },
    {
      "cell_type": "code",
      "metadata": {
        "id": "p6q7phyIRPRp"
      },
      "source": [
        "X_train, X_test, y_train, y_test = train_test_split(df_train, y_train_def, test_size=0.25, random_state=42)"
      ],
      "execution_count": 106,
      "outputs": []
    },
    {
      "cell_type": "code",
      "metadata": {
        "id": "2YnqHtD3dpc1"
      },
      "source": [
        "from sklearn import tree\n"
      ],
      "execution_count": 107,
      "outputs": []
    },
    {
      "cell_type": "code",
      "metadata": {
        "colab": {
          "base_uri": "https://localhost:8080/"
        },
        "id": "1Rf5op6MNwxy",
        "outputId": "6f1ac1e7-beef-4cab-ae89-ab559ac138e8"
      },
      "source": [
        "from sklearn.tree import DecisionTreeClassifier\n",
        "drugTree = DecisionTreeClassifier(criterion=\"entropy\", max_depth = 9)\n",
        "drugTree.fit(X_train,y_train)\n",
        "predTree = drugTree.predict(X_test)\n",
        "from sklearn import metrics\n",
        "import matplotlib.pyplot as plt\n",
        "print(\"DecisionTrees's Accuracy: \", metrics.accuracy_score(y_test, predTree))"
      ],
      "execution_count": 108,
      "outputs": [
        {
          "output_type": "stream",
          "text": [
            "DecisionTrees's Accuracy:  0.968\n"
          ],
          "name": "stdout"
        }
      ]
    },
    {
      "cell_type": "code",
      "metadata": {
        "id": "eGR9woOKNytq"
      },
      "source": [
        ""
      ],
      "execution_count": 25,
      "outputs": []
    },
    {
      "cell_type": "code",
      "metadata": {
        "id": "e3y6gMFMePRT"
      },
      "source": [
        "from sklearn.ensemble import RandomForestClassifier"
      ],
      "execution_count": 26,
      "outputs": []
    },
    {
      "cell_type": "code",
      "metadata": {
        "id": "K4MYmR7Xfdnp"
      },
      "source": [
        ""
      ],
      "execution_count": 26,
      "outputs": []
    },
    {
      "cell_type": "code",
      "metadata": {
        "colab": {
          "base_uri": "https://localhost:8080/"
        },
        "id": "FJZT1zoBeSh8",
        "outputId": "43c97655-398a-4129-d96c-1b588532ad56"
      },
      "source": [
        "clf = RandomForestClassifier()\n",
        "clf.fit(X_train,y_train)"
      ],
      "execution_count": 27,
      "outputs": [
        {
          "output_type": "execute_result",
          "data": {
            "text/plain": [
              "RandomForestClassifier(bootstrap=True, ccp_alpha=0.0, class_weight=None,\n",
              "                       criterion='gini', max_depth=None, max_features='auto',\n",
              "                       max_leaf_nodes=None, max_samples=None,\n",
              "                       min_impurity_decrease=0.0, min_impurity_split=None,\n",
              "                       min_samples_leaf=1, min_samples_split=2,\n",
              "                       min_weight_fraction_leaf=0.0, n_estimators=100,\n",
              "                       n_jobs=None, oob_score=False, random_state=None,\n",
              "                       verbose=0, warm_start=False)"
            ]
          },
          "metadata": {
            "tags": []
          },
          "execution_count": 27
        }
      ]
    },
    {
      "cell_type": "code",
      "metadata": {
        "id": "ae5fF8Lqfemu"
      },
      "source": [
        "param_dict = {\n",
        "    \"max_depth\":range(2,6),\n",
        "    \"min_samples_split\":range(2,6),\n",
        "    \"min_samples_leaf\":range(6,15),\n",
        "    \"n_estimators\":[50,100,150,200]\n",
        "}"
      ],
      "execution_count": null,
      "outputs": []
    },
    {
      "cell_type": "code",
      "metadata": {
        "id": "JcRIvErJfhT0"
      },
      "source": [
        "from sklearn.model_selection import GridSearchCV"
      ],
      "execution_count": 28,
      "outputs": []
    },
    {
      "cell_type": "code",
      "metadata": {
        "colab": {
          "base_uri": "https://localhost:8080/"
        },
        "id": "cTvYyppFfuK1",
        "outputId": "1bed87c1-e9e0-4c20-93bc-e7677b9ceca0"
      },
      "source": [
        "grid = GridSearchCV(clf,\n",
        "                    param_grid=param_dict,\n",
        "                    cv=10,\n",
        "                    verbose=1,\n",
        "                    n_jobs=-1)\n",
        "grid.fit(X_train,y_train)"
      ],
      "execution_count": null,
      "outputs": [
        {
          "output_type": "stream",
          "text": [
            "Fitting 10 folds for each of 576 candidates, totalling 5760 fits\n"
          ],
          "name": "stdout"
        },
        {
          "output_type": "stream",
          "text": [
            "[Parallel(n_jobs=-1)]: Using backend LokyBackend with 2 concurrent workers.\n",
            "[Parallel(n_jobs=-1)]: Done  46 tasks      | elapsed:   14.5s\n",
            "[Parallel(n_jobs=-1)]: Done 196 tasks      | elapsed:  1.0min\n",
            "[Parallel(n_jobs=-1)]: Done 446 tasks      | elapsed:  2.3min\n",
            "[Parallel(n_jobs=-1)]: Done 796 tasks      | elapsed:  4.1min\n",
            "[Parallel(n_jobs=-1)]: Done 1246 tasks      | elapsed:  6.4min\n",
            "[Parallel(n_jobs=-1)]: Done 1796 tasks      | elapsed:  9.5min\n",
            "[Parallel(n_jobs=-1)]: Done 2446 tasks      | elapsed: 13.5min\n",
            "[Parallel(n_jobs=-1)]: Done 3196 tasks      | elapsed: 18.3min\n",
            "[Parallel(n_jobs=-1)]: Done 4046 tasks      | elapsed: 24.2min\n",
            "[Parallel(n_jobs=-1)]: Done 4996 tasks      | elapsed: 31.3min\n",
            "[Parallel(n_jobs=-1)]: Done 5760 out of 5760 | elapsed: 37.3min finished\n"
          ],
          "name": "stderr"
        },
        {
          "output_type": "execute_result",
          "data": {
            "text/plain": [
              "GridSearchCV(cv=10, error_score=nan,\n",
              "             estimator=RandomForestClassifier(bootstrap=True, ccp_alpha=0.0,\n",
              "                                              class_weight=None,\n",
              "                                              criterion='gini', max_depth=None,\n",
              "                                              max_features='auto',\n",
              "                                              max_leaf_nodes=None,\n",
              "                                              max_samples=None,\n",
              "                                              min_impurity_decrease=0.0,\n",
              "                                              min_impurity_split=None,\n",
              "                                              min_samples_leaf=1,\n",
              "                                              min_samples_split=2,\n",
              "                                              min_weight_fraction_leaf=0.0,\n",
              "                                              n_estimators=100, n_jobs=None,\n",
              "                                              oob_score=False,\n",
              "                                              random_state=None, verbose=0,\n",
              "                                              warm_start=False),\n",
              "             iid='deprecated', n_jobs=-1,\n",
              "             param_grid={'max_depth': range(2, 6),\n",
              "                         'min_samples_leaf': range(6, 15),\n",
              "                         'min_samples_split': range(2, 6),\n",
              "                         'n_estimators': [50, 100, 150, 200]},\n",
              "             pre_dispatch='2*n_jobs', refit=True, return_train_score=False,\n",
              "             scoring=None, verbose=1)"
            ]
          },
          "metadata": {
            "tags": []
          },
          "execution_count": 30
        }
      ]
    },
    {
      "cell_type": "code",
      "metadata": {
        "colab": {
          "base_uri": "https://localhost:8080/"
        },
        "id": "GP5I7nXXfu0R",
        "outputId": "ac5d57f0-cf72-4891-ff0b-c37bc04a5399"
      },
      "source": [
        "grid.best_estimator_"
      ],
      "execution_count": null,
      "outputs": [
        {
          "output_type": "execute_result",
          "data": {
            "text/plain": [
              "RandomForestClassifier(bootstrap=True, ccp_alpha=0.0, class_weight=None,\n",
              "                       criterion='gini', max_depth=4, max_features='auto',\n",
              "                       max_leaf_nodes=None, max_samples=None,\n",
              "                       min_impurity_decrease=0.0, min_impurity_split=None,\n",
              "                       min_samples_leaf=11, min_samples_split=5,\n",
              "                       min_weight_fraction_leaf=0.0, n_estimators=200,\n",
              "                       n_jobs=None, oob_score=False, random_state=None,\n",
              "                       verbose=0, warm_start=False)"
            ]
          },
          "metadata": {
            "tags": []
          },
          "execution_count": 31
        }
      ]
    },
    {
      "cell_type": "markdown",
      "metadata": {
        "id": "5P5hWbW90aJq"
      },
      "source": [
        "Using gridsearch parameter"
      ]
    },
    {
      "cell_type": "code",
      "metadata": {
        "colab": {
          "base_uri": "https://localhost:8080/"
        },
        "id": "Ikyo3FUcKnAm",
        "outputId": "98d11148-caf5-4fa4-ec97-a0e25267a774"
      },
      "source": [
        "clf=RandomForestClassifier(bootstrap=True, ccp_alpha=0.0, class_weight=None,\n",
        "                       criterion='gini', max_depth=4, max_features='auto',\n",
        "                       max_leaf_nodes=None, max_samples=None,\n",
        "                       min_impurity_decrease=0.0, min_impurity_split=None,\n",
        "                       min_samples_leaf=11, min_samples_split=5,\n",
        "                       min_weight_fraction_leaf=0.0, n_estimators=200,\n",
        "                       n_jobs=None, oob_score=False, random_state=None,\n",
        "                       verbose=0, warm_start=False)\n",
        "clf.fit(X_train,y_train)"
      ],
      "execution_count": 109,
      "outputs": [
        {
          "output_type": "execute_result",
          "data": {
            "text/plain": [
              "RandomForestClassifier(bootstrap=True, ccp_alpha=0.0, class_weight=None,\n",
              "                       criterion='gini', max_depth=4, max_features='auto',\n",
              "                       max_leaf_nodes=None, max_samples=None,\n",
              "                       min_impurity_decrease=0.0, min_impurity_split=None,\n",
              "                       min_samples_leaf=11, min_samples_split=5,\n",
              "                       min_weight_fraction_leaf=0.0, n_estimators=200,\n",
              "                       n_jobs=None, oob_score=False, random_state=None,\n",
              "                       verbose=0, warm_start=False)"
            ]
          },
          "metadata": {
            "tags": []
          },
          "execution_count": 109
        }
      ]
    },
    {
      "cell_type": "code",
      "metadata": {
        "id": "Q5srjtdZeV9o"
      },
      "source": [
        "y_pred = clf.predict(X_test)"
      ],
      "execution_count": 110,
      "outputs": []
    },
    {
      "cell_type": "code",
      "metadata": {
        "id": "Ar49CmfZeZTq"
      },
      "source": [
        "from sklearn.metrics import accuracy_score"
      ],
      "execution_count": 111,
      "outputs": []
    },
    {
      "cell_type": "code",
      "metadata": {
        "colab": {
          "base_uri": "https://localhost:8080/"
        },
        "id": "0n57r_QmecPk",
        "outputId": "349bda15-dc38-4aae-ab97-b2c026b8b2df"
      },
      "source": [
        "accuracy_score(y_test, y_pred)"
      ],
      "execution_count": 112,
      "outputs": [
        {
          "output_type": "execute_result",
          "data": {
            "text/plain": [
              "0.9736"
            ]
          },
          "metadata": {
            "tags": []
          },
          "execution_count": 112
        }
      ]
    },
    {
      "cell_type": "code",
      "metadata": {
        "colab": {
          "base_uri": "https://localhost:8080/"
        },
        "id": "8Z-FLjILeeRZ",
        "outputId": "56221f1c-c1c8-4c93-e427-d3d50a9e393a"
      },
      "source": [
        "from sklearn.ensemble import GradientBoostingClassifier\n",
        "clf = GradientBoostingClassifier(ccp_alpha=0.0, criterion='friedman_mse', init=None,\n",
        "                           learning_rate=0.1, loss='deviance', max_depth=2,\n",
        "                           max_features=None, max_leaf_nodes=None,\n",
        "                           min_impurity_decrease=0.0, min_impurity_split=None,\n",
        "                           min_samples_leaf=7, min_samples_split=2,\n",
        "                           min_weight_fraction_leaf=0.0, n_estimators=100,\n",
        "                           n_iter_no_change=None, presort='deprecated',\n",
        "                           random_state=42, subsample=1.0, tol=0.0001,\n",
        "                           validation_fraction=0.1, verbose=0,\n",
        "                           warm_start=False).fit(X_train,y_train)\n",
        "clf.score(X_test,y_test)"
      ],
      "execution_count": 113,
      "outputs": [
        {
          "output_type": "execute_result",
          "data": {
            "text/plain": [
              "0.9716"
            ]
          },
          "metadata": {
            "tags": []
          },
          "execution_count": 113
        }
      ]
    },
    {
      "cell_type": "markdown",
      "metadata": {
        "id": "Ti8sxE9n0iK7"
      },
      "source": [
        "Using gridsearch parameter"
      ]
    },
    {
      "cell_type": "code",
      "metadata": {
        "colab": {
          "base_uri": "https://localhost:8080/"
        },
        "id": "Govvj9aOLmZE",
        "outputId": "750c624c-fc84-495e-af69-7318ad5d229c"
      },
      "source": [
        "param_dict = {\n",
        "    \"max_depth\":range(1,6),\n",
        "    \"learning_rate\":[0.1,0.9,1.5],\n",
        "    \"min_samples_split\":range(1,6),\n",
        "    \"min_samples_leaf\":range(6,8),\n",
        "    \"n_estimators\":[50,100,150,200]\n",
        "}\n",
        "grid = GridSearchCV(clf,\n",
        "                    param_grid=param_dict,\n",
        "                    cv=10,\n",
        "                    verbose=1,\n",
        "                    n_jobs=-1)\n",
        "grid.fit(X_train,y_train)"
      ],
      "execution_count": null,
      "outputs": [
        {
          "output_type": "stream",
          "text": [
            "Fitting 10 folds for each of 600 candidates, totalling 6000 fits\n"
          ],
          "name": "stdout"
        },
        {
          "output_type": "stream",
          "text": [
            "[Parallel(n_jobs=-1)]: Using backend LokyBackend with 2 concurrent workers.\n",
            "[Parallel(n_jobs=-1)]: Done 150 tasks      | elapsed:   32.1s\n",
            "[Parallel(n_jobs=-1)]: Done 344 tasks      | elapsed:  1.3min\n",
            "[Parallel(n_jobs=-1)]: Done 682 tasks      | elapsed:  3.3min\n",
            "[Parallel(n_jobs=-1)]: Done 1120 tasks      | elapsed:  6.9min\n",
            "[Parallel(n_jobs=-1)]: Done 1702 tasks      | elapsed: 13.3min\n",
            "[Parallel(n_jobs=-1)]: Done 2384 tasks      | elapsed: 19.4min\n",
            "[Parallel(n_jobs=-1)]: Done 3210 tasks      | elapsed: 25.7min\n",
            "[Parallel(n_jobs=-1)]: Done 4180 tasks      | elapsed: 36.6min\n",
            "[Parallel(n_jobs=-1)]: Done 5308 tasks      | elapsed: 44.5min\n",
            "[Parallel(n_jobs=-1)]: Done 6000 out of 6000 | elapsed: 53.2min finished\n"
          ],
          "name": "stderr"
        },
        {
          "output_type": "execute_result",
          "data": {
            "text/plain": [
              "GridSearchCV(cv=10, error_score=nan,\n",
              "             estimator=GradientBoostingClassifier(ccp_alpha=0.0,\n",
              "                                                  criterion='friedman_mse',\n",
              "                                                  init=None, learning_rate=0.5,\n",
              "                                                  loss='deviance', max_depth=5,\n",
              "                                                  max_features=None,\n",
              "                                                  max_leaf_nodes=None,\n",
              "                                                  min_impurity_decrease=0.0,\n",
              "                                                  min_impurity_split=None,\n",
              "                                                  min_samples_leaf=1,\n",
              "                                                  min_samples_split=2,\n",
              "                                                  min_weight_fraction_leaf=0.0,\n",
              "                                                  n_estimators=150,\n",
              "                                                  n_iter_no_...\n",
              "                                                  random_state=42,\n",
              "                                                  subsample=1.0, tol=0.0001,\n",
              "                                                  validation_fraction=0.1,\n",
              "                                                  verbose=0, warm_start=False),\n",
              "             iid='deprecated', n_jobs=-1,\n",
              "             param_grid={'learning_rate': [0.1, 0.9, 1.5],\n",
              "                         'max_depth': range(1, 6),\n",
              "                         'min_samples_leaf': range(6, 8),\n",
              "                         'min_samples_split': range(1, 6),\n",
              "                         'n_estimators': [50, 100, 150, 200]},\n",
              "             pre_dispatch='2*n_jobs', refit=True, return_train_score=False,\n",
              "             scoring=None, verbose=1)"
            ]
          },
          "metadata": {
            "tags": []
          },
          "execution_count": 39
        }
      ]
    },
    {
      "cell_type": "code",
      "metadata": {
        "colab": {
          "base_uri": "https://localhost:8080/"
        },
        "id": "4_500j-WOBUY",
        "outputId": "82aac6fc-b696-48ed-ab96-1c3aa1fed12c"
      },
      "source": [
        "grid.best_estimator_"
      ],
      "execution_count": null,
      "outputs": [
        {
          "output_type": "execute_result",
          "data": {
            "text/plain": [
              "GradientBoostingClassifier(ccp_alpha=0.0, criterion='friedman_mse', init=None,\n",
              "                           learning_rate=0.1, loss='deviance', max_depth=2,\n",
              "                           max_features=None, max_leaf_nodes=None,\n",
              "                           min_impurity_decrease=0.0, min_impurity_split=None,\n",
              "                           min_samples_leaf=7, min_samples_split=2,\n",
              "                           min_weight_fraction_leaf=0.0, n_estimators=100,\n",
              "                           n_iter_no_change=None, presort='deprecated',\n",
              "                           random_state=42, subsample=1.0, tol=0.0001,\n",
              "                           validation_fraction=0.1, verbose=0,\n",
              "                           warm_start=False)"
            ]
          },
          "metadata": {
            "tags": []
          },
          "execution_count": 40
        }
      ]
    },
    {
      "cell_type": "markdown",
      "metadata": {
        "id": "AMGJ8UnC0nce"
      },
      "source": [
        "Using gridsearch parameter"
      ]
    },
    {
      "cell_type": "code",
      "metadata": {
        "colab": {
          "base_uri": "https://localhost:8080/"
        },
        "id": "uMr_7vuVh0Di",
        "outputId": "e116460b-5c2e-454f-d029-f70dc54193b6"
      },
      "source": [
        "from sklearn.ensemble import AdaBoostClassifier\n",
        "clf = AdaBoostClassifier(algorithm='SAMME.R', base_estimator=None, learning_rate=0.1,\n",
        "                   n_estimators=100, random_state=None)\n",
        "clf.fit(X_train,y_train)\n",
        "clf.score(X_test,y_test)"
      ],
      "execution_count": 114,
      "outputs": [
        {
          "output_type": "execute_result",
          "data": {
            "text/plain": [
              "0.9728"
            ]
          },
          "metadata": {
            "tags": []
          },
          "execution_count": 114
        }
      ]
    },
    {
      "cell_type": "code",
      "metadata": {
        "colab": {
          "base_uri": "https://localhost:8080/"
        },
        "id": "krUlF2VkML5K",
        "outputId": "e923715c-c794-49df-c474-b82e50520ce4"
      },
      "source": [
        "param_dict = {\n",
        "    \"learning_rate\":[0.05,0.1,0.5,0.9,1.5],\n",
        "    \"n_estimators\":[50,100,150,200]\n",
        "}\n",
        "grid = GridSearchCV(clf,\n",
        "                    param_grid=param_dict,\n",
        "                    cv=10,\n",
        "                    verbose=1,\n",
        "                    n_jobs=-1)\n",
        "grid.fit(X_train,y_train)"
      ],
      "execution_count": null,
      "outputs": [
        {
          "output_type": "stream",
          "text": [
            "Fitting 10 folds for each of 20 candidates, totalling 200 fits\n"
          ],
          "name": "stdout"
        },
        {
          "output_type": "stream",
          "text": [
            "[Parallel(n_jobs=-1)]: Using backend LokyBackend with 2 concurrent workers.\n",
            "[Parallel(n_jobs=-1)]: Done  46 tasks      | elapsed:   22.1s\n",
            "[Parallel(n_jobs=-1)]: Done 196 tasks      | elapsed:  1.7min\n",
            "[Parallel(n_jobs=-1)]: Done 200 out of 200 | elapsed:  1.7min finished\n"
          ],
          "name": "stderr"
        },
        {
          "output_type": "execute_result",
          "data": {
            "text/plain": [
              "GridSearchCV(cv=10, error_score=nan,\n",
              "             estimator=AdaBoostClassifier(algorithm='SAMME.R',\n",
              "                                          base_estimator=None,\n",
              "                                          learning_rate=0.1, n_estimators=100,\n",
              "                                          random_state=None),\n",
              "             iid='deprecated', n_jobs=-1,\n",
              "             param_grid={'learning_rate': [0.05, 0.1, 0.5, 0.9, 1.5],\n",
              "                         'n_estimators': [50, 100, 150, 200]},\n",
              "             pre_dispatch='2*n_jobs', refit=True, return_train_score=False,\n",
              "             scoring=None, verbose=1)"
            ]
          },
          "metadata": {
            "tags": []
          },
          "execution_count": 42
        }
      ]
    },
    {
      "cell_type": "code",
      "metadata": {
        "colab": {
          "base_uri": "https://localhost:8080/"
        },
        "id": "oH519QlSN69D",
        "outputId": "70f7bd34-2d49-4874-cba9-c395b64a7fbe"
      },
      "source": [
        "grid.best_estimator_"
      ],
      "execution_count": null,
      "outputs": [
        {
          "output_type": "execute_result",
          "data": {
            "text/plain": [
              "AdaBoostClassifier(algorithm='SAMME.R', base_estimator=None, learning_rate=0.1,\n",
              "                   n_estimators=100, random_state=None)"
            ]
          },
          "metadata": {
            "tags": []
          },
          "execution_count": 43
        }
      ]
    },
    {
      "cell_type": "markdown",
      "metadata": {
        "id": "zDYQc1kD0tyy"
      },
      "source": [
        "Trying other methods"
      ]
    },
    {
      "cell_type": "code",
      "metadata": {
        "colab": {
          "base_uri": "https://localhost:8080/"
        },
        "id": "0xuOiMt2iFnR",
        "outputId": "0d75d915-a8bd-4f59-87af-71b11bb80e60"
      },
      "source": [
        "from sklearn.ensemble import RandomForestClassifier, StackingClassifier\n",
        "from sklearn.linear_model import LogisticRegression\n",
        "from sklearn.model_selection import train_test_split\n",
        "from sklearn.neighbors import KNeighborsClassifier\n",
        "\n",
        "\n",
        "\n",
        "# Create Base Learners\n",
        "base_learners = [\n",
        "                 ('rf_1', RandomForestClassifier(n_estimators=100, random_state=42)),\n",
        "                 ('rf_2', KNeighborsClassifier(n_neighbors=2))             \n",
        "                ]\n",
        "\n",
        "# Initialize Stacking Classifier with the Meta Learner\n",
        "clf = StackingClassifier(estimators=base_learners, final_estimator=LogisticRegression())\n",
        "\n",
        "# Extract score\n",
        "X_train, X_test, y_train, y_test = train_test_split(df_train, y_train_def, test_size=0.20, random_state=42)\n",
        "clf.fit(X_train, y_train).score(X_test, y_test)"
      ],
      "execution_count": 115,
      "outputs": [
        {
          "output_type": "execute_result",
          "data": {
            "text/plain": [
              "0.967"
            ]
          },
          "metadata": {
            "tags": []
          },
          "execution_count": 115
        }
      ]
    },
    {
      "cell_type": "code",
      "metadata": {
        "colab": {
          "base_uri": "https://localhost:8080/"
        },
        "id": "Z9m0SUOAiJuy",
        "outputId": "5f45a649-b278-4c75-a963-76076c828edf"
      },
      "source": [
        "from sklearn.ensemble import RandomForestClassifier, StackingClassifier\n",
        "from sklearn.linear_model import LogisticRegression\n",
        "from sklearn.model_selection import train_test_split\n",
        "from sklearn.neighbors import KNeighborsClassifier\n",
        "from sklearn.tree import DecisionTreeClassifier\n",
        "\n",
        "\n",
        "# Create Learners per layer\n",
        "layer_one_estimators = [\n",
        "                        ('rf_1', RandomForestClassifier(n_estimators=100, random_state=42)),\n",
        "                        ('knn_1', KNeighborsClassifier(n_neighbors=2))             \n",
        "                       ]\n",
        "layer_two_estimators = [\n",
        "                        ('dt_2', DecisionTreeClassifier()),\n",
        "                        ('rf_2', RandomForestClassifier(n_estimators=50, random_state=42)),\n",
        "                       ]\n",
        "layer_two = StackingClassifier(estimators=layer_two_estimators, final_estimator=LogisticRegression())\n",
        "\n",
        "# Create Final model by \n",
        "clf = StackingClassifier(estimators=layer_one_estimators, final_estimator=layer_two)\n",
        "\n",
        "X_train, X_test, y_train, y_test = train_test_split(df_train, y_train_def, test_size=0.20, random_state=42)\n",
        "clf.fit(X_train, y_train).score(X_test, y_test)"
      ],
      "execution_count": 116,
      "outputs": [
        {
          "output_type": "execute_result",
          "data": {
            "text/plain": [
              "0.962"
            ]
          },
          "metadata": {
            "tags": []
          },
          "execution_count": 116
        }
      ]
    },
    {
      "cell_type": "code",
      "metadata": {
        "colab": {
          "base_uri": "https://localhost:8080/"
        },
        "id": "QMSx6Th833qk",
        "outputId": "cb0a615d-1e5e-4399-9e11-eed59a7c6b24"
      },
      "source": [
        "from sklearn.neural_network import MLPClassifier\n",
        "clf = MLPClassifier(random_state=1, max_iter=500).fit(X_train, y_train)\n",
        "clf.score(X_test, y_test)"
      ],
      "execution_count": 117,
      "outputs": [
        {
          "output_type": "execute_result",
          "data": {
            "text/plain": [
              "0.97"
            ]
          },
          "metadata": {
            "tags": []
          },
          "execution_count": 117
        }
      ]
    },
    {
      "cell_type": "code",
      "metadata": {
        "id": "fa9mG8OtOi8h"
      },
      "source": [
        "from sklearn.ensemble import IsolationForest"
      ],
      "execution_count": 118,
      "outputs": []
    },
    {
      "cell_type": "code",
      "metadata": {
        "id": "vQpCo0IjnQRJ"
      },
      "source": [
        "iforest = IsolationForest(n_estimators=100, max_samples='auto', \n",
        "                          contamination=0.05, max_features=3, \n",
        "                          bootstrap=False, n_jobs=-1, random_state=1)"
      ],
      "execution_count": 119,
      "outputs": []
    },
    {
      "cell_type": "code",
      "metadata": {
        "id": "1ANl8vdMpyYW"
      },
      "source": [
        "pred= iforest.fit_predict(df_train)\n",
        "df_train1['scores']=iforest.decision_function(df_train)\n",
        "df_train1['anomaly_label']=pred"
      ],
      "execution_count": 120,
      "outputs": []
    },
    {
      "cell_type": "code",
      "metadata": {
        "colab": {
          "base_uri": "https://localhost:8080/",
          "height": 423
        },
        "id": "7TvYbLFAp-cX",
        "outputId": "bf73b580-4e5c-46d8-ce81-754ca010abe9"
      },
      "source": [
        "df_train1[df_train1.anomaly_label==-1]"
      ],
      "execution_count": 121,
      "outputs": [
        {
          "output_type": "execute_result",
          "data": {
            "text/html": [
              "<div>\n",
              "<style scoped>\n",
              "    .dataframe tbody tr th:only-of-type {\n",
              "        vertical-align: middle;\n",
              "    }\n",
              "\n",
              "    .dataframe tbody tr th {\n",
              "        vertical-align: top;\n",
              "    }\n",
              "\n",
              "    .dataframe thead th {\n",
              "        text-align: right;\n",
              "    }\n",
              "</style>\n",
              "<table border=\"1\" class=\"dataframe\">\n",
              "  <thead>\n",
              "    <tr style=\"text-align: right;\">\n",
              "      <th></th>\n",
              "      <th>Employed</th>\n",
              "      <th>Bank Balance</th>\n",
              "      <th>Annual Salary</th>\n",
              "      <th>scores</th>\n",
              "      <th>anomaly_label</th>\n",
              "    </tr>\n",
              "  </thead>\n",
              "  <tbody>\n",
              "    <tr>\n",
              "      <th>5</th>\n",
              "      <td>0</td>\n",
              "      <td>0.346450</td>\n",
              "      <td>0.092325</td>\n",
              "      <td>-0.017289</td>\n",
              "      <td>-1</td>\n",
              "    </tr>\n",
              "    <tr>\n",
              "      <th>10</th>\n",
              "      <td>0</td>\n",
              "      <td>0.000000</td>\n",
              "      <td>0.289893</td>\n",
              "      <td>-0.002644</td>\n",
              "      <td>-1</td>\n",
              "    </tr>\n",
              "    <tr>\n",
              "      <th>61</th>\n",
              "      <td>1</td>\n",
              "      <td>0.260003</td>\n",
              "      <td>0.860938</td>\n",
              "      <td>-0.008533</td>\n",
              "      <td>-1</td>\n",
              "    </tr>\n",
              "    <tr>\n",
              "      <th>87</th>\n",
              "      <td>0</td>\n",
              "      <td>0.061202</td>\n",
              "      <td>0.171330</td>\n",
              "      <td>-0.002304</td>\n",
              "      <td>-1</td>\n",
              "    </tr>\n",
              "    <tr>\n",
              "      <th>104</th>\n",
              "      <td>1</td>\n",
              "      <td>0.551264</td>\n",
              "      <td>0.888759</td>\n",
              "      <td>-0.050296</td>\n",
              "      <td>-1</td>\n",
              "    </tr>\n",
              "    <tr>\n",
              "      <th>...</th>\n",
              "      <td>...</td>\n",
              "      <td>...</td>\n",
              "      <td>...</td>\n",
              "      <td>...</td>\n",
              "      <td>...</td>\n",
              "    </tr>\n",
              "    <tr>\n",
              "      <th>9873</th>\n",
              "      <td>1</td>\n",
              "      <td>0.900799</td>\n",
              "      <td>0.680536</td>\n",
              "      <td>-0.083466</td>\n",
              "      <td>-1</td>\n",
              "    </tr>\n",
              "    <tr>\n",
              "      <th>9878</th>\n",
              "      <td>1</td>\n",
              "      <td>0.294576</td>\n",
              "      <td>0.890954</td>\n",
              "      <td>-0.016542</td>\n",
              "      <td>-1</td>\n",
              "    </tr>\n",
              "    <tr>\n",
              "      <th>9893</th>\n",
              "      <td>1</td>\n",
              "      <td>0.862145</td>\n",
              "      <td>0.704452</td>\n",
              "      <td>-0.077318</td>\n",
              "      <td>-1</td>\n",
              "    </tr>\n",
              "    <tr>\n",
              "      <th>9912</th>\n",
              "      <td>1</td>\n",
              "      <td>0.809586</td>\n",
              "      <td>0.598195</td>\n",
              "      <td>-0.050927</td>\n",
              "      <td>-1</td>\n",
              "    </tr>\n",
              "    <tr>\n",
              "      <th>9978</th>\n",
              "      <td>1</td>\n",
              "      <td>0.829764</td>\n",
              "      <td>0.639102</td>\n",
              "      <td>-0.065461</td>\n",
              "      <td>-1</td>\n",
              "    </tr>\n",
              "  </tbody>\n",
              "</table>\n",
              "<p>500 rows × 5 columns</p>\n",
              "</div>"
            ],
            "text/plain": [
              "      Employed  Bank Balance  Annual Salary    scores  anomaly_label\n",
              "5            0      0.346450       0.092325 -0.017289             -1\n",
              "10           0      0.000000       0.289893 -0.002644             -1\n",
              "61           1      0.260003       0.860938 -0.008533             -1\n",
              "87           0      0.061202       0.171330 -0.002304             -1\n",
              "104          1      0.551264       0.888759 -0.050296             -1\n",
              "...        ...           ...            ...       ...            ...\n",
              "9873         1      0.900799       0.680536 -0.083466             -1\n",
              "9878         1      0.294576       0.890954 -0.016542             -1\n",
              "9893         1      0.862145       0.704452 -0.077318             -1\n",
              "9912         1      0.809586       0.598195 -0.050927             -1\n",
              "9978         1      0.829764       0.639102 -0.065461             -1\n",
              "\n",
              "[500 rows x 5 columns]"
            ]
          },
          "metadata": {
            "tags": []
          },
          "execution_count": 121
        }
      ]
    },
    {
      "cell_type": "code",
      "metadata": {
        "colab": {
          "base_uri": "https://localhost:8080/",
          "height": 423
        },
        "id": "zwp94K8Nr7pN",
        "outputId": "dd5c16d6-1290-4cb8-e504-347809af1494"
      },
      "source": [
        "df_train1[df_train1.anomaly_label==1]"
      ],
      "execution_count": 122,
      "outputs": [
        {
          "output_type": "execute_result",
          "data": {
            "text/html": [
              "<div>\n",
              "<style scoped>\n",
              "    .dataframe tbody tr th:only-of-type {\n",
              "        vertical-align: middle;\n",
              "    }\n",
              "\n",
              "    .dataframe tbody tr th {\n",
              "        vertical-align: top;\n",
              "    }\n",
              "\n",
              "    .dataframe thead th {\n",
              "        text-align: right;\n",
              "    }\n",
              "</style>\n",
              "<table border=\"1\" class=\"dataframe\">\n",
              "  <thead>\n",
              "    <tr style=\"text-align: right;\">\n",
              "      <th></th>\n",
              "      <th>Employed</th>\n",
              "      <th>Bank Balance</th>\n",
              "      <th>Annual Salary</th>\n",
              "      <th>scores</th>\n",
              "      <th>anomaly_label</th>\n",
              "    </tr>\n",
              "  </thead>\n",
              "  <tbody>\n",
              "    <tr>\n",
              "      <th>0</th>\n",
              "      <td>1</td>\n",
              "      <td>0.274846</td>\n",
              "      <td>0.598905</td>\n",
              "      <td>0.168453</td>\n",
              "      <td>1</td>\n",
              "    </tr>\n",
              "    <tr>\n",
              "      <th>1</th>\n",
              "      <td>0</td>\n",
              "      <td>0.307868</td>\n",
              "      <td>0.155727</td>\n",
              "      <td>0.075616</td>\n",
              "      <td>1</td>\n",
              "    </tr>\n",
              "    <tr>\n",
              "      <th>2</th>\n",
              "      <td>1</td>\n",
              "      <td>0.404454</td>\n",
              "      <td>0.425862</td>\n",
              "      <td>0.148468</td>\n",
              "      <td>1</td>\n",
              "    </tr>\n",
              "    <tr>\n",
              "      <th>3</th>\n",
              "      <td>1</td>\n",
              "      <td>0.199392</td>\n",
              "      <td>0.479959</td>\n",
              "      <td>0.167564</td>\n",
              "      <td>1</td>\n",
              "    </tr>\n",
              "    <tr>\n",
              "      <th>4</th>\n",
              "      <td>1</td>\n",
              "      <td>0.295993</td>\n",
              "      <td>0.517867</td>\n",
              "      <td>0.180755</td>\n",
              "      <td>1</td>\n",
              "    </tr>\n",
              "    <tr>\n",
              "      <th>...</th>\n",
              "      <td>...</td>\n",
              "      <td>...</td>\n",
              "      <td>...</td>\n",
              "      <td>...</td>\n",
              "      <td>...</td>\n",
              "    </tr>\n",
              "    <tr>\n",
              "      <th>9995</th>\n",
              "      <td>1</td>\n",
              "      <td>0.268076</td>\n",
              "      <td>0.717488</td>\n",
              "      <td>0.130041</td>\n",
              "      <td>1</td>\n",
              "    </tr>\n",
              "    <tr>\n",
              "      <th>9996</th>\n",
              "      <td>1</td>\n",
              "      <td>0.285557</td>\n",
              "      <td>0.259524</td>\n",
              "      <td>0.080385</td>\n",
              "      <td>1</td>\n",
              "    </tr>\n",
              "    <tr>\n",
              "      <th>9997</th>\n",
              "      <td>1</td>\n",
              "      <td>0.318503</td>\n",
              "      <td>0.795032</td>\n",
              "      <td>0.059771</td>\n",
              "      <td>1</td>\n",
              "    </tr>\n",
              "    <tr>\n",
              "      <th>9998</th>\n",
              "      <td>1</td>\n",
              "      <td>0.591116</td>\n",
              "      <td>0.493213</td>\n",
              "      <td>0.078580</td>\n",
              "      <td>1</td>\n",
              "    </tr>\n",
              "    <tr>\n",
              "      <th>9999</th>\n",
              "      <td>0</td>\n",
              "      <td>0.075695</td>\n",
              "      <td>0.221084</td>\n",
              "      <td>0.037227</td>\n",
              "      <td>1</td>\n",
              "    </tr>\n",
              "  </tbody>\n",
              "</table>\n",
              "<p>9500 rows × 5 columns</p>\n",
              "</div>"
            ],
            "text/plain": [
              "      Employed  Bank Balance  Annual Salary    scores  anomaly_label\n",
              "0            1      0.274846       0.598905  0.168453              1\n",
              "1            0      0.307868       0.155727  0.075616              1\n",
              "2            1      0.404454       0.425862  0.148468              1\n",
              "3            1      0.199392       0.479959  0.167564              1\n",
              "4            1      0.295993       0.517867  0.180755              1\n",
              "...        ...           ...            ...       ...            ...\n",
              "9995         1      0.268076       0.717488  0.130041              1\n",
              "9996         1      0.285557       0.259524  0.080385              1\n",
              "9997         1      0.318503       0.795032  0.059771              1\n",
              "9998         1      0.591116       0.493213  0.078580              1\n",
              "9999         0      0.075695       0.221084  0.037227              1\n",
              "\n",
              "[9500 rows x 5 columns]"
            ]
          },
          "metadata": {
            "tags": []
          },
          "execution_count": 122
        }
      ]
    },
    {
      "cell_type": "code",
      "metadata": {
        "colab": {
          "base_uri": "https://localhost:8080/",
          "height": 423
        },
        "id": "hrL2I63wsBux",
        "outputId": "fce38f42-f921-469a-a0da-ea52c67a08d6"
      },
      "source": [
        "df_train1"
      ],
      "execution_count": 123,
      "outputs": [
        {
          "output_type": "execute_result",
          "data": {
            "text/html": [
              "<div>\n",
              "<style scoped>\n",
              "    .dataframe tbody tr th:only-of-type {\n",
              "        vertical-align: middle;\n",
              "    }\n",
              "\n",
              "    .dataframe tbody tr th {\n",
              "        vertical-align: top;\n",
              "    }\n",
              "\n",
              "    .dataframe thead th {\n",
              "        text-align: right;\n",
              "    }\n",
              "</style>\n",
              "<table border=\"1\" class=\"dataframe\">\n",
              "  <thead>\n",
              "    <tr style=\"text-align: right;\">\n",
              "      <th></th>\n",
              "      <th>Employed</th>\n",
              "      <th>Bank Balance</th>\n",
              "      <th>Annual Salary</th>\n",
              "      <th>scores</th>\n",
              "      <th>anomaly_label</th>\n",
              "    </tr>\n",
              "  </thead>\n",
              "  <tbody>\n",
              "    <tr>\n",
              "      <th>0</th>\n",
              "      <td>1</td>\n",
              "      <td>0.274846</td>\n",
              "      <td>0.598905</td>\n",
              "      <td>0.168453</td>\n",
              "      <td>1</td>\n",
              "    </tr>\n",
              "    <tr>\n",
              "      <th>1</th>\n",
              "      <td>0</td>\n",
              "      <td>0.307868</td>\n",
              "      <td>0.155727</td>\n",
              "      <td>0.075616</td>\n",
              "      <td>1</td>\n",
              "    </tr>\n",
              "    <tr>\n",
              "      <th>2</th>\n",
              "      <td>1</td>\n",
              "      <td>0.404454</td>\n",
              "      <td>0.425862</td>\n",
              "      <td>0.148468</td>\n",
              "      <td>1</td>\n",
              "    </tr>\n",
              "    <tr>\n",
              "      <th>3</th>\n",
              "      <td>1</td>\n",
              "      <td>0.199392</td>\n",
              "      <td>0.479959</td>\n",
              "      <td>0.167564</td>\n",
              "      <td>1</td>\n",
              "    </tr>\n",
              "    <tr>\n",
              "      <th>4</th>\n",
              "      <td>1</td>\n",
              "      <td>0.295993</td>\n",
              "      <td>0.517867</td>\n",
              "      <td>0.180755</td>\n",
              "      <td>1</td>\n",
              "    </tr>\n",
              "    <tr>\n",
              "      <th>...</th>\n",
              "      <td>...</td>\n",
              "      <td>...</td>\n",
              "      <td>...</td>\n",
              "      <td>...</td>\n",
              "      <td>...</td>\n",
              "    </tr>\n",
              "    <tr>\n",
              "      <th>9995</th>\n",
              "      <td>1</td>\n",
              "      <td>0.268076</td>\n",
              "      <td>0.717488</td>\n",
              "      <td>0.130041</td>\n",
              "      <td>1</td>\n",
              "    </tr>\n",
              "    <tr>\n",
              "      <th>9996</th>\n",
              "      <td>1</td>\n",
              "      <td>0.285557</td>\n",
              "      <td>0.259524</td>\n",
              "      <td>0.080385</td>\n",
              "      <td>1</td>\n",
              "    </tr>\n",
              "    <tr>\n",
              "      <th>9997</th>\n",
              "      <td>1</td>\n",
              "      <td>0.318503</td>\n",
              "      <td>0.795032</td>\n",
              "      <td>0.059771</td>\n",
              "      <td>1</td>\n",
              "    </tr>\n",
              "    <tr>\n",
              "      <th>9998</th>\n",
              "      <td>1</td>\n",
              "      <td>0.591116</td>\n",
              "      <td>0.493213</td>\n",
              "      <td>0.078580</td>\n",
              "      <td>1</td>\n",
              "    </tr>\n",
              "    <tr>\n",
              "      <th>9999</th>\n",
              "      <td>0</td>\n",
              "      <td>0.075695</td>\n",
              "      <td>0.221084</td>\n",
              "      <td>0.037227</td>\n",
              "      <td>1</td>\n",
              "    </tr>\n",
              "  </tbody>\n",
              "</table>\n",
              "<p>10000 rows × 5 columns</p>\n",
              "</div>"
            ],
            "text/plain": [
              "      Employed  Bank Balance  Annual Salary    scores  anomaly_label\n",
              "0            1      0.274846       0.598905  0.168453              1\n",
              "1            0      0.307868       0.155727  0.075616              1\n",
              "2            1      0.404454       0.425862  0.148468              1\n",
              "3            1      0.199392       0.479959  0.167564              1\n",
              "4            1      0.295993       0.517867  0.180755              1\n",
              "...        ...           ...            ...       ...            ...\n",
              "9995         1      0.268076       0.717488  0.130041              1\n",
              "9996         1      0.285557       0.259524  0.080385              1\n",
              "9997         1      0.318503       0.795032  0.059771              1\n",
              "9998         1      0.591116       0.493213  0.078580              1\n",
              "9999         0      0.075695       0.221084  0.037227              1\n",
              "\n",
              "[10000 rows x 5 columns]"
            ]
          },
          "metadata": {
            "tags": []
          },
          "execution_count": 123
        }
      ]
    },
    {
      "cell_type": "markdown",
      "metadata": {
        "id": "USt-xy_htsNp"
      },
      "source": [
        "This method can be used for detection of outliers\n"
      ]
    },
    {
      "cell_type": "markdown",
      "metadata": {
        "id": "3Zcd5HBW02HG"
      },
      "source": [
        "# **Thus we conclude Random Forest was best due to its handling of outliers, classification process and grid search for parameter selection.**"
      ]
    },
    {
      "cell_type": "code",
      "metadata": {
        "id": "0TzSCgwzsucy"
      },
      "source": [
        ""
      ],
      "execution_count": null,
      "outputs": []
    }
  ]
}